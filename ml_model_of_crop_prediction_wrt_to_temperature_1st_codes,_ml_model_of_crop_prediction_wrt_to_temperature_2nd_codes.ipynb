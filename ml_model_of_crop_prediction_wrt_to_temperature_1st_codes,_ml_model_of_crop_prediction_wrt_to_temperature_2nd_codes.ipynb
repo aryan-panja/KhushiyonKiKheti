{
  "cells": [
    {
      "cell_type": "code",
      "execution_count": 1,
      "metadata": {
        "id": "wi6l48OR758i"
      },
      "outputs": [],
      "source": [
        "import pandas as pd\n",
        "from sklearn.model_selection import train_test_split\n",
        "from sklearn.ensemble import RandomForestClassifier\n",
        "from sklearn.metrics import accuracy_score"
      ]
    },
    {
      "cell_type": "code",
      "execution_count": 2,
      "metadata": {
        "id": "39hkVOEh90lx"
      },
      "outputs": [],
      "source": [
        "# prompt: i want to get the file stored in sample_data folder\n",
        "\n",
        "df = pd.read_csv('Crop_recommendation_with_weather.csv')\n"
      ]
    },
    {
      "cell_type": "code",
      "execution_count": 3,
      "metadata": {
        "id": "4CmYKUV1-C-C"
      },
      "outputs": [],
      "source": [
        "# Assuming 'crop_type' is the last column representing the type of crop\n",
        "X = df.iloc[:, :-1]  # Features (all columns except the last one)\n",
        "y = df.iloc[:, -1]   # Target variable (last column)"
      ]
    },
    {
      "cell_type": "code",
      "execution_count": 4,
      "metadata": {
        "id": "l2EiJfCq-JVy"
      },
      "outputs": [],
      "source": [
        "# Split the data into training and testing sets\n",
        "X_train, X_test, y_train, y_test = train_test_split(X, y, test_size=0.2, random_state=42)\n"
      ]
    },
    {
      "cell_type": "code",
      "execution_count": 5,
      "metadata": {
        "id": "G_DjUqJs-LP0"
      },
      "outputs": [],
      "source": [
        "model = RandomForestClassifier()\n"
      ]
    },
    {
      "cell_type": "code",
      "execution_count": 6,
      "metadata": {
        "id": "xyrgnteC-PBP"
      },
      "outputs": [
        {
          "data": {
            "text/html": [
              "<style>#sk-container-id-1 {color: black;}#sk-container-id-1 pre{padding: 0;}#sk-container-id-1 div.sk-toggleable {background-color: white;}#sk-container-id-1 label.sk-toggleable__label {cursor: pointer;display: block;width: 100%;margin-bottom: 0;padding: 0.3em;box-sizing: border-box;text-align: center;}#sk-container-id-1 label.sk-toggleable__label-arrow:before {content: \"▸\";float: left;margin-right: 0.25em;color: #696969;}#sk-container-id-1 label.sk-toggleable__label-arrow:hover:before {color: black;}#sk-container-id-1 div.sk-estimator:hover label.sk-toggleable__label-arrow:before {color: black;}#sk-container-id-1 div.sk-toggleable__content {max-height: 0;max-width: 0;overflow: hidden;text-align: left;background-color: #f0f8ff;}#sk-container-id-1 div.sk-toggleable__content pre {margin: 0.2em;color: black;border-radius: 0.25em;background-color: #f0f8ff;}#sk-container-id-1 input.sk-toggleable__control:checked~div.sk-toggleable__content {max-height: 200px;max-width: 100%;overflow: auto;}#sk-container-id-1 input.sk-toggleable__control:checked~label.sk-toggleable__label-arrow:before {content: \"▾\";}#sk-container-id-1 div.sk-estimator input.sk-toggleable__control:checked~label.sk-toggleable__label {background-color: #d4ebff;}#sk-container-id-1 div.sk-label input.sk-toggleable__control:checked~label.sk-toggleable__label {background-color: #d4ebff;}#sk-container-id-1 input.sk-hidden--visually {border: 0;clip: rect(1px 1px 1px 1px);clip: rect(1px, 1px, 1px, 1px);height: 1px;margin: -1px;overflow: hidden;padding: 0;position: absolute;width: 1px;}#sk-container-id-1 div.sk-estimator {font-family: monospace;background-color: #f0f8ff;border: 1px dotted black;border-radius: 0.25em;box-sizing: border-box;margin-bottom: 0.5em;}#sk-container-id-1 div.sk-estimator:hover {background-color: #d4ebff;}#sk-container-id-1 div.sk-parallel-item::after {content: \"\";width: 100%;border-bottom: 1px solid gray;flex-grow: 1;}#sk-container-id-1 div.sk-label:hover label.sk-toggleable__label {background-color: #d4ebff;}#sk-container-id-1 div.sk-serial::before {content: \"\";position: absolute;border-left: 1px solid gray;box-sizing: border-box;top: 0;bottom: 0;left: 50%;z-index: 0;}#sk-container-id-1 div.sk-serial {display: flex;flex-direction: column;align-items: center;background-color: white;padding-right: 0.2em;padding-left: 0.2em;position: relative;}#sk-container-id-1 div.sk-item {position: relative;z-index: 1;}#sk-container-id-1 div.sk-parallel {display: flex;align-items: stretch;justify-content: center;background-color: white;position: relative;}#sk-container-id-1 div.sk-item::before, #sk-container-id-1 div.sk-parallel-item::before {content: \"\";position: absolute;border-left: 1px solid gray;box-sizing: border-box;top: 0;bottom: 0;left: 50%;z-index: -1;}#sk-container-id-1 div.sk-parallel-item {display: flex;flex-direction: column;z-index: 1;position: relative;background-color: white;}#sk-container-id-1 div.sk-parallel-item:first-child::after {align-self: flex-end;width: 50%;}#sk-container-id-1 div.sk-parallel-item:last-child::after {align-self: flex-start;width: 50%;}#sk-container-id-1 div.sk-parallel-item:only-child::after {width: 0;}#sk-container-id-1 div.sk-dashed-wrapped {border: 1px dashed gray;margin: 0 0.4em 0.5em 0.4em;box-sizing: border-box;padding-bottom: 0.4em;background-color: white;}#sk-container-id-1 div.sk-label label {font-family: monospace;font-weight: bold;display: inline-block;line-height: 1.2em;}#sk-container-id-1 div.sk-label-container {text-align: center;}#sk-container-id-1 div.sk-container {/* jupyter's `normalize.less` sets `[hidden] { display: none; }` but bootstrap.min.css set `[hidden] { display: none !important; }` so we also need the `!important` here to be able to override the default hidden behavior on the sphinx rendered scikit-learn.org. See: https://github.com/scikit-learn/scikit-learn/issues/21755 */display: inline-block !important;position: relative;}#sk-container-id-1 div.sk-text-repr-fallback {display: none;}</style><div id=\"sk-container-id-1\" class=\"sk-top-container\"><div class=\"sk-text-repr-fallback\"><pre>RandomForestClassifier()</pre><b>In a Jupyter environment, please rerun this cell to show the HTML representation or trust the notebook. <br />On GitHub, the HTML representation is unable to render, please try loading this page with nbviewer.org.</b></div><div class=\"sk-container\" hidden><div class=\"sk-item\"><div class=\"sk-estimator sk-toggleable\"><input class=\"sk-toggleable__control sk-hidden--visually\" id=\"sk-estimator-id-1\" type=\"checkbox\" checked><label for=\"sk-estimator-id-1\" class=\"sk-toggleable__label sk-toggleable__label-arrow\">RandomForestClassifier</label><div class=\"sk-toggleable__content\"><pre>RandomForestClassifier()</pre></div></div></div></div></div>"
            ],
            "text/plain": [
              "RandomForestClassifier()"
            ]
          },
          "execution_count": 6,
          "metadata": {},
          "output_type": "execute_result"
        }
      ],
      "source": [
        "model.fit(X_train, y_train)\n"
      ]
    },
    {
      "cell_type": "code",
      "execution_count": 7,
      "metadata": {
        "id": "EnS3BQny-SWN"
      },
      "outputs": [],
      "source": [
        "predictions = model.predict(X_test)\n"
      ]
    },
    {
      "cell_type": "code",
      "execution_count": 8,
      "metadata": {
        "colab": {
          "base_uri": "https://localhost:8080/"
        },
        "id": "-dAPrFhA-U8n",
        "outputId": "7c227490-e933-4eaa-bd24-d845d376ae60"
      },
      "outputs": [
        {
          "name": "stdout",
          "output_type": "stream",
          "text": [
            "Accuracy: 0.9931818181818182\n"
          ]
        }
      ],
      "source": [
        "\n",
        "# Evaluate the model\n",
        "accuracy = accuracy_score(y_test, predictions)\n",
        "print(f\"Accuracy: {accuracy}\")"
      ]
    },
    {
      "cell_type": "code",
      "execution_count": 9,
      "metadata": {},
      "outputs": [
        {
          "data": {
            "text/plain": [
              "['./model.pkl']"
            ]
          },
          "execution_count": 9,
          "metadata": {},
          "output_type": "execute_result"
        }
      ],
      "source": [
        "import joblib\n",
        "\n",
        "# Assuming 'model' is your trained model\n",
        "model_path = './model.pkl'\n",
        "joblib.dump(model, model_path)\n"
      ]
    },
    {
      "cell_type": "code",
      "execution_count": 11,
      "metadata": {
        "colab": {
          "base_uri": "https://localhost:8080/"
        },
        "id": "lFdGD-rH_HH1",
        "outputId": "bfb33594-8aad-476a-f8e9-80c92ee8d881"
      },
      "outputs": [
        {
          "name": "stdout",
          "output_type": "stream",
          "text": [
            "Predicted Crop Type: ['rice']\n"
          ]
        }
      ],
      "source": [
        "# Assuming you have a new set of input values stored in a variable called 'new_data'\n",
        "new_data = pd.DataFrame({\n",
        "    'N': [74],  # Replace value_1 with the actual value\n",
        "    'P': [35],  # Replace value_2 with the actual value\n",
        "    'K': [40],\n",
        "    'temperature': [26.49109635],\n",
        "    'humidity': [80.15836264],\n",
        "    'ph': [6.980400905],\n",
        "    'rainfall': [242.8640342],\n",
        "})\n",
        "\n",
        "# Use the trained model to make predictions\n",
        "predicted_crop_type = model.predict(new_data)\n",
        "\n",
        "# Display the predicted crop type\n",
        "print(f\"Predicted Crop Type: {predicted_crop_type}\")\n"
      ]
    },
    {
      "cell_type": "markdown",
      "metadata": {},
      "source": [
        "HERE THE MODEL BECOMES WHERE WE HAVE COMBINED DATASETS NOW."
      ]
    },
    {
      "cell_type": "code",
      "execution_count": 34,
      "metadata": {
        "id": "QQDi_f8CGaqv"
      },
      "outputs": [],
      "source": [
        "from sklearn.ensemble import HistGradientBoostingClassifier"
      ]
    },
    {
      "cell_type": "code",
      "execution_count": 35,
      "metadata": {
        "id": "m432u0RUBooN"
      },
      "outputs": [],
      "source": [
        "df1 = pd.read_csv('/content/sample_data/Crop_recommendation_with_weather(1).csv')\n",
        "df2 = pd.read_csv('/content/sample_data/crop_production_with_location.csv')"
      ]
    },
    {
      "cell_type": "code",
      "execution_count": 36,
      "metadata": {
        "id": "zyfiNNbPCEuH"
      },
      "outputs": [],
      "source": [
        "\n",
        "# Assuming df1 and df2 are your two datasets with the same labels\n",
        "combined_df = pd.concat([df1, df2], ignore_index=True)\n"
      ]
    },
    {
      "cell_type": "code",
      "execution_count": 37,
      "metadata": {
        "id": "SPil5NphFTCO"
      },
      "outputs": [],
      "source": [
        "# String features to Numeric\n",
        "\n",
        "from sklearn.preprocessing import LabelEncoder\n",
        "\n",
        "label_encoder = LabelEncoder()\n",
        "combined_df['State_Name'] = label_encoder.fit_transform(combined_df['State_Name'])\n",
        "combined_df['District_Name'] = label_encoder.fit_transform(combined_df['District_Name'])\n",
        "combined_df['State_Name'] = label_encoder.fit_transform(combined_df['State_Name'])\n",
        "combined_df['Season'] = label_encoder.fit_transform(combined_df['Season'])\n"
      ]
    },
    {
      "cell_type": "code",
      "execution_count": 53,
      "metadata": {
        "colab": {
          "base_uri": "https://localhost:8080/"
        },
        "id": "MnAzpX6qJkJ9",
        "outputId": "8f79f70b-6b3c-4831-fa25-c494d61334ea"
      },
      "outputs": [
        {
          "name": "stdout",
          "output_type": "stream",
          "text": [
            "class counts = Rice                     15104\n",
            "Maize                    13947\n",
            "Moong(Green Gram)        10318\n",
            "Urad                      9850\n",
            "Sesamum                   9046\n",
            "Groundnut                 8834\n",
            "Sugarcane                 7921\n",
            "Wheat                     7899\n",
            "Rapeseed &Mustard         7592\n",
            "Arhar/Tur                 7578\n",
            "Gram                      7361\n",
            "Jowar                     7065\n",
            "Onion                     7012\n",
            "Potato                    6931\n",
            "Dry chillies              6489\n",
            "Sunflower                 5571\n",
            "Bajra                     5427\n",
            "Small millets             4652\n",
            "Peas & beans (Pulses)     4524\n",
            "Cotton(lint)              4518\n",
            "Linseed                   4405\n",
            "Masoor                    4224\n",
            "Turmeric                  4202\n",
            "Barley                    4199\n",
            "Sweet potato              4198\n",
            "Ragi                      4145\n",
            "Horse-gram                3902\n",
            "Other Kharif pulses       3659\n",
            "Castor seed               3376\n",
            "Coriander                 3369\n",
            "Garlic                    3289\n",
            "Soyabean                  3212\n",
            "Banana                    3209\n",
            "Other  Rabi pulses        3180\n",
            "Dry ginger                3008\n",
            "Tobacco                   2698\n",
            "Name: Crop, dtype: int64\n",
            "class remove = Index(['Tobacco'], dtype='object')\n",
            "filter = 2201      True\n",
            "2202      True\n",
            "2203      True\n",
            "2206      True\n",
            "2207      True\n",
            "          ... \n",
            "248286    True\n",
            "248287    True\n",
            "248288    True\n",
            "248289    True\n",
            "248290    True\n",
            "Name: Crop, Length: 215914, dtype: bool\n",
            "filtered =          N   P   K  temperature  humidity  ph  rainfall                 Crop  \\\n",
            "2201   NaN NaN NaN          NaN       NaN NaN       NaN  Other Kharif pulses   \n",
            "2202   NaN NaN NaN          NaN       NaN NaN       NaN                 Rice   \n",
            "2203   NaN NaN NaN          NaN       NaN NaN       NaN               Banana   \n",
            "2206   NaN NaN NaN          NaN       NaN NaN       NaN           Dry ginger   \n",
            "2207   NaN NaN NaN          NaN       NaN NaN       NaN            Sugarcane   \n",
            "...     ..  ..  ..          ...       ...  ..       ...                  ...   \n",
            "248286 NaN NaN NaN          NaN       NaN NaN       NaN                 Rice   \n",
            "248287 NaN NaN NaN          NaN       NaN NaN       NaN              Sesamum   \n",
            "248288 NaN NaN NaN          NaN       NaN NaN       NaN            Sugarcane   \n",
            "248289 NaN NaN NaN          NaN       NaN NaN       NaN                 Rice   \n",
            "248290 NaN NaN NaN          NaN       NaN NaN       NaN              Sesamum   \n",
            "\n",
            "        State_Name  District_Name  Crop_Year  Season      Area  Production  \n",
            "2201             0            427     2000.0       1       2.0         1.0  \n",
            "2202             0            427     2000.0       1     102.0       321.0  \n",
            "2203             0            427     2000.0       4     176.0       641.0  \n",
            "2206             0            427     2000.0       4      36.0       100.0  \n",
            "2207             0            427     2000.0       4       1.0         2.0  \n",
            "...            ...            ...        ...     ...       ...         ...  \n",
            "248286          32            471     2014.0       3     306.0       801.0  \n",
            "248287          32            471     2014.0       3     627.0       463.0  \n",
            "248288          32            471     2014.0       4     324.0     16250.0  \n",
            "248289          32            471     2014.0       5  279151.0    597899.0  \n",
            "248290          32            471     2014.0       5     175.0        88.0  \n",
            "\n",
            "[213216 rows x 14 columns]\n",
            "class counts filtered = Rice                     15104\n",
            "Maize                    13947\n",
            "Moong(Green Gram)        10318\n",
            "Urad                      9850\n",
            "Sesamum                   9046\n",
            "Groundnut                 8834\n",
            "Sugarcane                 7921\n",
            "Wheat                     7899\n",
            "Rapeseed &Mustard         7592\n",
            "Arhar/Tur                 7578\n",
            "Gram                      7361\n",
            "Jowar                     7065\n",
            "Onion                     7012\n",
            "Potato                    6931\n",
            "Dry chillies              6489\n",
            "Sunflower                 5571\n",
            "Bajra                     5427\n",
            "Small millets             4652\n",
            "Peas & beans (Pulses)     4524\n",
            "Cotton(lint)              4518\n",
            "Linseed                   4405\n",
            "Masoor                    4224\n",
            "Turmeric                  4202\n",
            "Barley                    4199\n",
            "Sweet potato              4198\n",
            "Ragi                      4145\n",
            "Horse-gram                3902\n",
            "Other Kharif pulses       3659\n",
            "Castor seed               3376\n",
            "Coriander                 3369\n",
            "Garlic                    3289\n",
            "Soyabean                  3212\n",
            "Banana                    3209\n",
            "Other  Rabi pulses        3180\n",
            "Dry ginger                3008\n",
            "Name: Crop, dtype: int64\n"
          ]
        }
      ],
      "source": [
        "# Step 1: Check the distribution of classes in y_train\n",
        "class_counts = combined_df['Crop'].value_counts()\n",
        "\n",
        "print(f'class counts = {class_counts}')\n",
        "\n",
        "# Step 2: Identify classes with fewer than 100 instances\n",
        "classes_to_remove = class_counts[class_counts <= 3000].index\n",
        "\n",
        "print(f'class remove = {classes_to_remove}')\n",
        "\n",
        "# Step 3: Filter out instances with classes having fewer than 100 instances\n",
        "filter_condition = ~combined_df['Crop'].isin(classes_to_remove)\n",
        "\n",
        "print(f'filter = {filter_condition}')\n",
        "\n",
        "combined_df_filtered = combined_df[filter_condition]\n",
        "\n",
        "print(f'filtered = {combined_df_filtered}')\n",
        "\n",
        "\n",
        "class_counts = combined_df_filtered['Crop'].value_counts()\n",
        "\n",
        "print(f'class counts filtered = {class_counts}')\n",
        "\n",
        "combined_df = combined_df_filtered"
      ]
    },
    {
      "cell_type": "code",
      "execution_count": 54,
      "metadata": {
        "colab": {
          "base_uri": "https://localhost:8080/",
          "height": 1000
        },
        "id": "CTNrcdcRByjC",
        "outputId": "157d49d9-cc9d-4592-ad8c-c7ddc092e2ca"
      },
      "outputs": [
        {
          "name": "stdout",
          "output_type": "stream",
          "text": [
            "Rice                     12070\n",
            "Maize                    11101\n",
            "Moong(Green Gram)         8217\n",
            "Urad                      7979\n",
            "Sesamum                   7229\n",
            "Groundnut                 7099\n",
            "Sugarcane                 6346\n",
            "Wheat                     6268\n",
            "Arhar/Tur                 6094\n",
            "Rapeseed &Mustard         6068\n",
            "Gram                      5876\n",
            "Jowar                     5620\n",
            "Onion                     5586\n",
            "Potato                    5577\n",
            "Dry chillies              5222\n",
            "Sunflower                 4448\n",
            "Bajra                     4324\n",
            "Small millets             3732\n",
            "Peas & beans (Pulses)     3605\n",
            "Cotton(lint)              3599\n",
            "Linseed                   3495\n",
            "Masoor                    3386\n",
            "Turmeric                  3379\n",
            "Barley                    3358\n",
            "Ragi                      3343\n",
            "Sweet potato              3340\n",
            "Horse-gram                3161\n",
            "Other Kharif pulses       2916\n",
            "Castor seed               2722\n",
            "Coriander                 2674\n",
            "Garlic                    2654\n",
            "Banana                    2614\n",
            "Soyabean                  2580\n",
            "Other  Rabi pulses        2541\n",
            "Dry ginger                2349\n",
            "Name: Crop, dtype: int64\n",
            "Rice                     12070\n",
            "Maize                    11101\n",
            "Moong(Green Gram)         8217\n",
            "Urad                      7979\n",
            "Sesamum                   7229\n",
            "Groundnut                 7099\n",
            "Sugarcane                 6346\n",
            "Wheat                     6268\n",
            "Arhar/Tur                 6094\n",
            "Rapeseed &Mustard         6068\n",
            "Gram                      5876\n",
            "Jowar                     5620\n",
            "Onion                     5586\n",
            "Potato                    5577\n",
            "Dry chillies              5222\n",
            "Sunflower                 4448\n",
            "Bajra                     4324\n",
            "Small millets             3732\n",
            "Peas & beans (Pulses)     3605\n",
            "Cotton(lint)              3599\n",
            "Linseed                   3495\n",
            "Masoor                    3386\n",
            "Turmeric                  3379\n",
            "Barley                    3358\n",
            "Ragi                      3343\n",
            "Sweet potato              3340\n",
            "Horse-gram                3161\n",
            "Other Kharif pulses       2916\n",
            "Castor seed               2722\n",
            "Coriander                 2674\n",
            "Garlic                    2654\n",
            "Banana                    2614\n",
            "Soyabean                  2580\n",
            "Other  Rabi pulses        2541\n",
            "Dry ginger                2349\n",
            "Name: Crop, dtype: int64\n"
          ]
        },
        {
          "data": {
            "text/html": [
              "<style>#sk-container-id-7 {color: black;background-color: white;}#sk-container-id-7 pre{padding: 0;}#sk-container-id-7 div.sk-toggleable {background-color: white;}#sk-container-id-7 label.sk-toggleable__label {cursor: pointer;display: block;width: 100%;margin-bottom: 0;padding: 0.3em;box-sizing: border-box;text-align: center;}#sk-container-id-7 label.sk-toggleable__label-arrow:before {content: \"▸\";float: left;margin-right: 0.25em;color: #696969;}#sk-container-id-7 label.sk-toggleable__label-arrow:hover:before {color: black;}#sk-container-id-7 div.sk-estimator:hover label.sk-toggleable__label-arrow:before {color: black;}#sk-container-id-7 div.sk-toggleable__content {max-height: 0;max-width: 0;overflow: hidden;text-align: left;background-color: #f0f8ff;}#sk-container-id-7 div.sk-toggleable__content pre {margin: 0.2em;color: black;border-radius: 0.25em;background-color: #f0f8ff;}#sk-container-id-7 input.sk-toggleable__control:checked~div.sk-toggleable__content {max-height: 200px;max-width: 100%;overflow: auto;}#sk-container-id-7 input.sk-toggleable__control:checked~label.sk-toggleable__label-arrow:before {content: \"▾\";}#sk-container-id-7 div.sk-estimator input.sk-toggleable__control:checked~label.sk-toggleable__label {background-color: #d4ebff;}#sk-container-id-7 div.sk-label input.sk-toggleable__control:checked~label.sk-toggleable__label {background-color: #d4ebff;}#sk-container-id-7 input.sk-hidden--visually {border: 0;clip: rect(1px 1px 1px 1px);clip: rect(1px, 1px, 1px, 1px);height: 1px;margin: -1px;overflow: hidden;padding: 0;position: absolute;width: 1px;}#sk-container-id-7 div.sk-estimator {font-family: monospace;background-color: #f0f8ff;border: 1px dotted black;border-radius: 0.25em;box-sizing: border-box;margin-bottom: 0.5em;}#sk-container-id-7 div.sk-estimator:hover {background-color: #d4ebff;}#sk-container-id-7 div.sk-parallel-item::after {content: \"\";width: 100%;border-bottom: 1px solid gray;flex-grow: 1;}#sk-container-id-7 div.sk-label:hover label.sk-toggleable__label {background-color: #d4ebff;}#sk-container-id-7 div.sk-serial::before {content: \"\";position: absolute;border-left: 1px solid gray;box-sizing: border-box;top: 0;bottom: 0;left: 50%;z-index: 0;}#sk-container-id-7 div.sk-serial {display: flex;flex-direction: column;align-items: center;background-color: white;padding-right: 0.2em;padding-left: 0.2em;position: relative;}#sk-container-id-7 div.sk-item {position: relative;z-index: 1;}#sk-container-id-7 div.sk-parallel {display: flex;align-items: stretch;justify-content: center;background-color: white;position: relative;}#sk-container-id-7 div.sk-item::before, #sk-container-id-7 div.sk-parallel-item::before {content: \"\";position: absolute;border-left: 1px solid gray;box-sizing: border-box;top: 0;bottom: 0;left: 50%;z-index: -1;}#sk-container-id-7 div.sk-parallel-item {display: flex;flex-direction: column;z-index: 1;position: relative;background-color: white;}#sk-container-id-7 div.sk-parallel-item:first-child::after {align-self: flex-end;width: 50%;}#sk-container-id-7 div.sk-parallel-item:last-child::after {align-self: flex-start;width: 50%;}#sk-container-id-7 div.sk-parallel-item:only-child::after {width: 0;}#sk-container-id-7 div.sk-dashed-wrapped {border: 1px dashed gray;margin: 0 0.4em 0.5em 0.4em;box-sizing: border-box;padding-bottom: 0.4em;background-color: white;}#sk-container-id-7 div.sk-label label {font-family: monospace;font-weight: bold;display: inline-block;line-height: 1.2em;}#sk-container-id-7 div.sk-label-container {text-align: center;}#sk-container-id-7 div.sk-container {/* jupyter's `normalize.less` sets `[hidden] { display: none; }` but bootstrap.min.css set `[hidden] { display: none !important; }` so we also need the `!important` here to be able to override the default hidden behavior on the sphinx rendered scikit-learn.org. See: https://github.com/scikit-learn/scikit-learn/issues/21755 */display: inline-block !important;position: relative;}#sk-container-id-7 div.sk-text-repr-fallback {display: none;}</style><div id=\"sk-container-id-7\" class=\"sk-top-container\"><div class=\"sk-text-repr-fallback\"><pre>HistGradientBoostingClassifier()</pre><b>In a Jupyter environment, please rerun this cell to show the HTML representation or trust the notebook. <br />On GitHub, the HTML representation is unable to render, please try loading this page with nbviewer.org.</b></div><div class=\"sk-container\" hidden><div class=\"sk-item\"><div class=\"sk-estimator sk-toggleable\"><input class=\"sk-toggleable__control sk-hidden--visually\" id=\"sk-estimator-id-7\" type=\"checkbox\" checked><label for=\"sk-estimator-id-7\" class=\"sk-toggleable__label sk-toggleable__label-arrow\">HistGradientBoostingClassifier</label><div class=\"sk-toggleable__content\"><pre>HistGradientBoostingClassifier()</pre></div></div></div></div></div>"
            ],
            "text/plain": [
              "HistGradientBoostingClassifier()"
            ]
          },
          "execution_count": 54,
          "metadata": {},
          "output_type": "execute_result"
        }
      ],
      "source": [
        "\n",
        "# Assuming 'X' is your feature matrix and 'y' is the target variable in combined_df\n",
        "X_train, X_test, y_train, y_test = train_test_split(combined_df.drop('Crop', axis=1), combined_df['Crop'], test_size=0.2, random_state=42)\n",
        "\n",
        "print(y_train.value_counts())\n",
        "# Check the distribution of classes in y_train\n",
        "class_counts = y_train.value_counts()\n",
        "\n",
        "# Identify classes with only one instance\n",
        "single_instance_classes = class_counts[class_counts == 1].index\n",
        "\n",
        "# Filter out instances with classes having only one instance\n",
        "filter_condition = ~y_train.isin(single_instance_classes)\n",
        "X_train_filtered = X_train[filter_condition]\n",
        "y_train_filtered = y_train[filter_condition]\n",
        "\n",
        "\n",
        "# Check the updated distribution of classes in y_train_filtered\n",
        "print(y_train_filtered.value_counts())\n",
        "\n",
        "\n",
        "# Train your model using the filtered and potentially resampled data\n",
        "model = HistGradientBoostingClassifier()\n",
        "model.fit(X_train_filtered, y_train_filtered)\n",
        "\n"
      ]
    },
    {
      "cell_type": "markdown",
      "metadata": {
        "id": "FM4Lu92eMjhK"
      },
      "source": [
        "WITH CLASS COUNT>=3000"
      ]
    },
    {
      "cell_type": "code",
      "execution_count": 55,
      "metadata": {
        "colab": {
          "base_uri": "https://localhost:8080/"
        },
        "id": "pfT_kt1EIjP5",
        "outputId": "887f8c4e-8579-4327-e25e-5f98bef07951"
      },
      "outputs": [
        {
          "name": "stdout",
          "output_type": "stream",
          "text": [
            "Accuracy: 0.49467685958165275\n"
          ]
        }
      ],
      "source": [
        "# Step 8: Make predictions on the test set\n",
        "predictions = model.predict(X_test)\n",
        "\n",
        "# Step 9: Evaluate the model\n",
        "accuracy = accuracy_score(y_test, predictions)\n",
        "print(f\"Accuracy: {accuracy}\")"
      ]
    },
    {
      "cell_type": "markdown",
      "metadata": {
        "id": "SN8GhpSOMnpP"
      },
      "source": [
        "WITH CLASS COUNT SAME"
      ]
    },
    {
      "cell_type": "code",
      "execution_count": null,
      "metadata": {
        "colab": {
          "base_uri": "https://localhost:8080/"
        },
        "id": "szpEGo2LMbjP",
        "outputId": "ad7305b6-1e56-4a7e-94cc-e75920ba7724"
      },
      "outputs": [
        {
          "name": "stdout",
          "output_type": "stream",
          "text": [
            "Accuracy: 0.335769951066272\n"
          ]
        }
      ],
      "source": [
        "# Step 8: Make predictions on the test set\n",
        "predictions = model.predict(X_test)\n",
        "\n",
        "# Step 9: Evaluate the model\n",
        "accuracy = accuracy_score(y_test, predictions)\n",
        "print(f\"Accuracy: {accuracy}\")"
      ]
    },
    {
      "cell_type": "markdown",
      "metadata": {
        "id": "Yc4PmBC5NJme"
      },
      "source": [
        ">1000"
      ]
    },
    {
      "cell_type": "code",
      "execution_count": 51,
      "metadata": {
        "colab": {
          "base_uri": "https://localhost:8080/"
        },
        "id": "Tfo9Hi6kNI0R",
        "outputId": "3d3660ee-86f5-459f-fec3-5c47d7374347"
      },
      "outputs": [
        {
          "name": "stdout",
          "output_type": "stream",
          "text": [
            "Accuracy: 0.419132740335272\n"
          ]
        }
      ],
      "source": [
        "# Step 8: Make predictions on the test set\n",
        "predictions = model.predict(X_test)\n",
        "\n",
        "# Step 9: Evaluate the model\n",
        "accuracy = accuracy_score(y_test, predictions)\n",
        "print(f\"Accuracy: {accuracy}\")"
      ]
    }
  ],
  "metadata": {
    "colab": {
      "provenance": []
    },
    "kernelspec": {
      "display_name": "Python 3",
      "name": "python3"
    },
    "language_info": {
      "codemirror_mode": {
        "name": "ipython",
        "version": 3
      },
      "file_extension": ".py",
      "mimetype": "text/x-python",
      "name": "python",
      "nbconvert_exporter": "python",
      "pygments_lexer": "ipython3",
      "version": "3.11.4"
    }
  },
  "nbformat": 4,
  "nbformat_minor": 0
}
